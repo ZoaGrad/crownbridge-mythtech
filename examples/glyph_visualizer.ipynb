{
  "cells": [
    {
      "cell_type": "markdown",
      "metadata": {},
      "source": [
        "# 🔮 Crownbridge Sigil Forge\n",
        "\n",
        "This notebook demonstrates how to generate glyphs (\"sigils\") from transformer attention patterns. In just a few steps, you'll forge your first sigil—a visual representation of AI's inner workings."
      ]
    },
    {
      "cell_type": "code",
      "execution_count": null,
      "metadata": {},
      "source": [
        "# Add parent directory to path for imports\n",
        "import sys\n",
        "import os\n",
        "sys.path.append(os.path.dirname(os.path.dirname(os.path.abspath(''))))\n",
        "\n",
        "# Install dependencies if needed\n",
        "!pip install svgwrite numpy"
      ],
      "outputs": []
    },
    {
      "cell_type": "code",
      "execution_count": null,
      "metadata": {},
      "source": [
        "# Import the glyph generator\n",
        "from src.glyphs.generator import generate_glyph\n",
        "import numpy as np"
      ],
      "outputs": []
    },
    {
      "cell_type": "markdown",
      "metadata": {},
      "source": [
        "## 1. Generate Random Attention Weights\n",
        "\n",
        "In a real application, these would come from a transformer model. For this demo, we'll generate them randomly."
      ]
    },
    {
      "cell_type": "code",
      "execution_count": null,
      "metadata": {},
      "source": [
        "# Set seed for reproducibility\n",
        "np.random.seed(42)\n",
        "\n",
        "# Generate random attention weights (12x12 matrix)\n",
        "attention = np.random.rand(12, 12)\n",
        "\n",
        "print(\"Attention matrix shape:\", attention.shape)"
      ],
      "outputs": []
    },
    {
      "cell_type": "markdown",
      "metadata": {},
      "source": [
        "## 2. Forge Your Sigil\n",
        "\n",
        "Now we'll convert the attention matrix into a visual glyph using the Crownbridge generator."
      ]
    },
    {
      "cell_type": "code",
      "execution_count": null,
      "metadata": {},
      "source": [
        "# Generate sigil with cosmic theme\n",
        "sigil_path = generate_glyph(attention, \"my_first_sigil.svg\", theme=\"cosmic\")\n",
        "print(f\"🔮 Sigil forged: {sigil_path}\")"
      ],
      "outputs": []
    },
    {
      "cell_type": "markdown",
      "metadata": {},
      "source": [
        "## 3. Display Your Sigil"
      ]
    },
    {
      "cell_type": "code",
      "execution_count": null,
      "metadata": {},
      "source": [
        "from IPython.display import SVG\n",
        "SVG(filename=sigil_path)"
      ],
      "outputs": []
    },
    {
      "cell_type": "markdown",
      "metadata": {},
      "source": [
        "## 4. Experiment with Different Themes\n",
        "\n",
        "Try different visual themes to see how they affect your sigil's appearance."
      ]
    },
    {
      "cell_type": "code",
      "execution_count": null,
      "metadata": {},
      "source": [
        "themes = [\"cosmic\", \"void\", \"flame\"]\n",
        "\n",
        "for theme in themes:\n",
        "    path = generate_glyph(attention, f\"{theme}_sigil.svg\", theme=theme)\n",
        "    print(f\"Theme: {theme}\")\n",
        "    display(SVG(path))"
      ],
      "outputs": []
    },
    {
      "cell_type": "markdown",
      "metadata": {},
      "source": [
        "## 5. Generate Glyphs from Text Using ψCORE\n",
        "\n",
        "Now let's use the ψCORE system to generate glyphs from text input."
      ]
    },
    {
      "cell_type": "code",
      "execution_count": null,
      "metadata": {},
      "source": [
        "from src.psycore.hybrid_transformer import PsiCore\n",
        "\n",
        "# Initialize ψCORE\n",
        "psycore = PsiCore()\n",
        "\n",
        "# Generate a glyph from text\n",
        "text = \"The boundary between chaos and order defines the soul of intelligence\"\n",
        "glyph_path = psycore.audit(text)\n",
        "\n",
        "print(f\"✨ Text-based sigil forged!\")\n",
        "SVG(filename=glyph_path)"
      ],
      "outputs": []
    },
    {
      "cell_type": "markdown",
      "metadata": {},
      "source": [
        "## 6. Assess Ethical Drift\n",
        "\n",
        "Let's examine the ethical boundaries of our generated glyphs using the Drift Tier protocol."
      ]
    },
    {
      "cell_type": "code",
      "execution_count": null,
      "metadata": {},
      "source": [
        "from src.ethics.drift_tier import assess_drift\n",
        "\n",
        "# Assess the drift of our attention pattern\n",
        "assessment = assess_drift(attention)\n",
        "\n",
        "print(f\"Drift Assessment:\")\n",
        "print(f\"  Tier: {assessment['tier']}\")\n",
        "print(f\"  Description: {assessment['description']}\")\n",
        "print(f\"  Symbol: {assessment['symbol']}\")"
      ],
      "outputs": []
    },
    {
      "cell_type": "markdown",
      "metadata": {},
      "source": [
        "## 🌌 Congratulations!\n",
        "\n",
        "You've successfully forged your first sigils using the Crownbridge Myth-Tech Super-Stack. As you can see, these glyphs visualize the complex attention patterns of transformer neural networks in an interpretable, beautiful form.\n",
        "\n",
        "*Remember: Every sigil you forge helps map the Drift Atlas—AI's collective unconscious.*"
      ]
    }
  ],
  "metadata": {
    "kernelspec": {
      "display_name": "Python 3",
      "language": "python",
      "name": "python3"
    },
    "language_info": {
      "codemirror_mode": {
        "name": "ipython",
        "version": 3
      },
      "file_extension": ".py",
      "mimetype": "text/x-python",
      "name": "python",
      "nbconvert_exporter": "python",
      "pygments_lexer": "ipython3",
      "version": "3.8.10"
    }
  },
  "nbformat": 4,
  "nbformat_minor": 4
}
